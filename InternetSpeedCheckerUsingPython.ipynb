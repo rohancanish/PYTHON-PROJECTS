{
 "cells": [
  {
   "cell_type": "code",
   "execution_count": 2,
   "id": "bd7859af-bbd8-46fd-bea6-4eafcefb4f75",
   "metadata": {},
   "outputs": [
    {
     "name": "stdout",
     "output_type": "stream",
     "text": [
      "Collecting speedtest-cli\n",
      "  Downloading speedtest_cli-2.1.3-py2.py3-none-any.whl.metadata (6.8 kB)\n",
      "Downloading speedtest_cli-2.1.3-py2.py3-none-any.whl (23 kB)\n",
      "Installing collected packages: speedtest-cli\n",
      "Successfully installed speedtest-cli-2.1.3\n"
     ]
    }
   ],
   "source": [
    "!pip3 install speedtest-cli"
   ]
  },
  {
   "cell_type": "code",
   "execution_count": 3,
   "id": "e96c9156-9a37-4ce6-a421-c8ad56b87688",
   "metadata": {},
   "outputs": [],
   "source": [
    "import speedtest "
   ]
  },
  {
   "cell_type": "code",
   "execution_count": 4,
   "id": "e5ef58f7-f833-4d84-b222-4afde6087ed1",
   "metadata": {},
   "outputs": [
    {
     "name": "stdout",
     "output_type": "stream",
     "text": [
      "Wifi Download Speed is  35270695.45764159\n",
      "Wifi Upload Speed is  31227662.334444735\n"
     ]
    }
   ],
   "source": [
    "wifi = speedtest.Speedtest()\n",
    "print(\"Wifi Download Speed is \", wifi.download())\n",
    "print(\"Wifi Upload Speed is \", wifi.upload())"
   ]
  },
  {
   "cell_type": "code",
   "execution_count": null,
   "id": "3db714da-5698-4646-878e-748c959b6cf4",
   "metadata": {},
   "outputs": [],
   "source": []
  },
  {
   "cell_type": "code",
   "execution_count": null,
   "id": "a0c17903-9943-4803-ae6e-9e0a46fc8006",
   "metadata": {},
   "outputs": [],
   "source": []
  }
 ],
 "metadata": {
  "kernelspec": {
   "display_name": "Python 3 (ipykernel)",
   "language": "python",
   "name": "python3"
  },
  "language_info": {
   "codemirror_mode": {
    "name": "ipython",
    "version": 3
   },
   "file_extension": ".py",
   "mimetype": "text/x-python",
   "name": "python",
   "nbconvert_exporter": "python",
   "pygments_lexer": "ipython3",
   "version": "3.11.9"
  }
 },
 "nbformat": 4,
 "nbformat_minor": 5
}

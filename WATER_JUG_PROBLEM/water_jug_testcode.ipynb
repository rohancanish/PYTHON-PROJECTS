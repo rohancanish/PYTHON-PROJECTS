{
 "cells": [
  {
   "cell_type": "code",
   "execution_count": 64,
   "id": "e7dec5be",
   "metadata": {},
   "outputs": [
    {
     "name": "stdout",
     "output_type": "stream",
     "text": [
      "enter capacity of Jug A : 4\n",
      "enter capacity of Jug B : 7\n",
      "enter target amount : 5\n",
      "(0, 0)\n",
      "(0, 7)\n",
      "(4, 3)\n",
      "(4, 0)\n",
      "(0, 4)\n",
      "(4, 4)\n",
      "(1, 7)\n",
      "(1, 0)\n",
      "(0, 1)\n",
      "(4, 1)\n",
      "(0, 5)\n",
      "solution found --> (0, 5)\n"
     ]
    }
   ],
   "source": [
    "def target_check(state, target):\n",
    "    if state[0]==target or state[1]==target:\n",
    "        return True\n",
    "    return False\n",
    "\n",
    "def get_next_states(j1, j2, max_j1, max_j2):\n",
    "    states = []\n",
    "    \n",
    "    states.append((max_j1, j2)) # Fill A\n",
    "    \n",
    "    states.append((j1, max_j2)) # Fill B\n",
    "    \n",
    "    states.append((0, j2)) # Empty A\n",
    "    \n",
    "    states.append((j1, 0)) # Empty B\n",
    "    \n",
    "    pour = min(j1, max_j2-j2) \n",
    "    states.append((j1-pour, j2+pour)) # Pour A to B\n",
    "    \n",
    "    pour = min(max_j1-j1, j2)\n",
    "    states.append((j1+pour, j2-pour)) ## Pour B to A\n",
    "    \n",
    "    return states\n",
    "    \n",
    "def water_jug_problem(max_j1, max_j2, target):\n",
    "    initial_state = (0, 0)\n",
    "    stack = [initial_state]\n",
    "    \n",
    "    visited = set()\n",
    "    \n",
    "    while stack:\n",
    "        (j1, j2) = stack.pop()\n",
    "        print((j1,j2))\n",
    "        \n",
    "        if (j1, j2) not in visited:\n",
    "            visited.add((j1, j2))\n",
    "            \n",
    "            if target_check((j1, j2), target):\n",
    "                return (j1, j2)\n",
    "            \n",
    "            next_states = get_next_states(j1, j2, max_j1, max_j2)\n",
    "            \n",
    "            for next_state in next_states:\n",
    "                if next_state not in visited:\n",
    "                    stack.append(next_state)\n",
    "            max_j2\n",
    "            \n",
    "    \n",
    "    return None\n",
    "                \n",
    "max_jug_A = int(input(\"enter capacity of Jug A : \"))\n",
    "max_jug_B = int(input(\"enter capacity of Jug B : \"))\n",
    "target = int(input(\"enter target amount : \"))\n",
    "\n",
    "solution = water_jug_problem(max_jug_A, max_jug_B, target)\n",
    "if solution:\n",
    "    print(f\"solution found --> {solution[0], solution[1]}\")\n",
    "else:\n",
    "    print(\"NO solution found!\")"
   ]
  }
 ],
 "metadata": {
  "kernelspec": {
   "display_name": "Python 3 (ipykernel)",
   "language": "python",
   "name": "python3"
  },
  "language_info": {
   "codemirror_mode": {
    "name": "ipython",
    "version": 3
   },
   "file_extension": ".py",
   "mimetype": "text/x-python",
   "name": "python",
   "nbconvert_exporter": "python",
   "pygments_lexer": "ipython3",
   "version": "3.8.10"
  }
 },
 "nbformat": 4,
 "nbformat_minor": 5
}

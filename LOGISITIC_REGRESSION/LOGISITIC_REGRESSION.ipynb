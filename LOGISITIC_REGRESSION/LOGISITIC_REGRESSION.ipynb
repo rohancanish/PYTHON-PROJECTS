{
 "cells": [
  {
   "cell_type": "code",
   "execution_count": 17,
   "id": "16463604-71a6-4372-82de-a93a033f1de4",
   "metadata": {},
   "outputs": [
    {
     "name": "stdout",
     "output_type": "stream",
     "text": [
      "   glucose  bloodpressure\n",
      "0       47             66  Diabetic\n",
      "The accuracy score is:  95.18072289156626\n",
      "\n",
      "Confusion matrix:\n",
      " [[135   5]\n",
      " [  7 102]]\n"
     ]
    }
   ],
   "source": [
    "import pandas as pd\n",
    "import numpy as np\n",
    "import matplotlib.pyplot as plt\n",
    "from sklearn.linear_model import LogisticRegression\n",
    "from sklearn.model_selection import train_test_split\n",
    "from sklearn.metrics import accuracy_score, confusion_matrix\n",
    "\n",
    "# Load the dataset\n",
    "df = pd.read_csv(\"HEALTH_DATASET.csv\")\n",
    "\n",
    "# Define features and target\n",
    "x = df.iloc[:, :-1]\n",
    "y = df.iloc[:, -1]\n",
    "\n",
    "# Split the data into training and testing sets\n",
    "x_train, x_test, y_train, y_test = train_test_split(x, y, test_size=0.25, random_state=40)\n",
    "\n",
    "# Instantiate and train the Logistic Regression model\n",
    "model = LogisticRegression(max_iter=1000)  # max_iter to ensure convergence\n",
    "model.fit(x_train, y_train)\n",
    "\n",
    "# Predict the target values for the test set\n",
    "y_pred = model.predict(x_test)\n",
    "\n",
    "# Predicting for a new value\n",
    "new_data = pd.DataFrame([[47,66]], columns=['glucose','bloodpressure'])\n",
    "if model.predict(new_data):\n",
    "    print(new_data,' Diabetic')\n",
    "else:\n",
    "    print(new_data,' Non-Diabetic')\n",
    "\n",
    "\n",
    "# Calculate and print the accuracy score and confusion matrix\n",
    "print(\"The accuracy score is: \", accuracy_score(y_test, y_pred) * 100)\n",
    "print(\"\\nConfusion matrix:\\n\", confusion_matrix(y_test, y_pred))\n"
   ]
  },
  {
   "cell_type": "code",
   "execution_count": null,
   "id": "38bce3a9-9ab5-4b48-a614-23d60c66d309",
   "metadata": {},
   "outputs": [],
   "source": []
  },
  {
   "cell_type": "code",
   "execution_count": null,
   "id": "c1d702c2-da55-4a7a-85e1-2b06b545812c",
   "metadata": {},
   "outputs": [],
   "source": []
  }
 ],
 "metadata": {
  "kernelspec": {
   "display_name": "Python 3 (ipykernel)",
   "language": "python",
   "name": "python3"
  },
  "language_info": {
   "codemirror_mode": {
    "name": "ipython",
    "version": 3
   },
   "file_extension": ".py",
   "mimetype": "text/x-python",
   "name": "python",
   "nbconvert_exporter": "python",
   "pygments_lexer": "ipython3",
   "version": "3.8.10"
  }
 },
 "nbformat": 4,
 "nbformat_minor": 5
}
